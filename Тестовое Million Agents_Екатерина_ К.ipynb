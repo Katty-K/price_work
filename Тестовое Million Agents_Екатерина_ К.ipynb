{
 "cells": [
  {
   "cell_type": "markdown",
   "metadata": {},
   "source": [
    "## Задача\n",
    "Есть данные в таком виде:\n",
    "id, цена за 1 выполненную работу, количество работ,\n",
    "\n",
    "Необходимо:\n",
    "1) получить ведомость оплаты: id - сумма\n",
    "2) найти id, которые заработали больше других и в сумме заработали 60% денег\n",
    "3) предложить свой метод поиска тех, кто заработал слишком много, с целью обнаружить неточность / подлог в исходных данных.\n",
    "\n",
    "Для решения использовать pandas, приложить код с комментариями.\n",
    "Файл с данными: https://drive.google.com/open?id=1OX0Dw3ikIU3ifp7Z34XVyQS2xy5RKlhQ"
   ]
  },
  {
   "cell_type": "markdown",
   "metadata": {},
   "source": [
    "## Решение"
   ]
  },
  {
   "cell_type": "code",
   "execution_count": 13,
   "metadata": {},
   "outputs": [],
   "source": [
    "import pandas as pd\n",
    "import numpy as np\n",
    "import seaborn as sns"
   ]
  },
  {
   "cell_type": "code",
   "execution_count": 2,
   "metadata": {},
   "outputs": [],
   "source": [
    "data = pd.read_csv('test_pandas.csv')"
   ]
  },
  {
   "cell_type": "markdown",
   "metadata": {},
   "source": [
    "### 1) Ведомость оплаты: id - сумма"
   ]
  },
  {
   "cell_type": "code",
   "execution_count": 3,
   "metadata": {},
   "outputs": [],
   "source": [
    "data['total'] = data['price_per_job']*data['jobs_made']"
   ]
  },
  {
   "cell_type": "markdown",
   "metadata": {},
   "source": [
    "### Ответ"
   ]
  },
  {
   "cell_type": "code",
   "execution_count": 4,
   "metadata": {},
   "outputs": [
    {
     "data": {
      "text/html": [
       "<div>\n",
       "<style scoped>\n",
       "    .dataframe tbody tr th:only-of-type {\n",
       "        vertical-align: middle;\n",
       "    }\n",
       "\n",
       "    .dataframe tbody tr th {\n",
       "        vertical-align: top;\n",
       "    }\n",
       "\n",
       "    .dataframe thead th {\n",
       "        text-align: right;\n",
       "    }\n",
       "</style>\n",
       "<table border=\"1\" class=\"dataframe\">\n",
       "  <thead>\n",
       "    <tr style=\"text-align: right;\">\n",
       "      <th></th>\n",
       "      <th>uid</th>\n",
       "      <th>price_per_job</th>\n",
       "      <th>jobs_made</th>\n",
       "      <th>total</th>\n",
       "    </tr>\n",
       "  </thead>\n",
       "  <tbody>\n",
       "    <tr>\n",
       "      <th>0</th>\n",
       "      <td>3</td>\n",
       "      <td>0.03</td>\n",
       "      <td>1</td>\n",
       "      <td>0.03</td>\n",
       "    </tr>\n",
       "    <tr>\n",
       "      <th>1</th>\n",
       "      <td>3</td>\n",
       "      <td>0.10</td>\n",
       "      <td>2</td>\n",
       "      <td>0.20</td>\n",
       "    </tr>\n",
       "    <tr>\n",
       "      <th>2</th>\n",
       "      <td>3</td>\n",
       "      <td>0.10</td>\n",
       "      <td>2</td>\n",
       "      <td>0.20</td>\n",
       "    </tr>\n",
       "    <tr>\n",
       "      <th>3</th>\n",
       "      <td>3</td>\n",
       "      <td>0.15</td>\n",
       "      <td>1</td>\n",
       "      <td>0.15</td>\n",
       "    </tr>\n",
       "    <tr>\n",
       "      <th>4</th>\n",
       "      <td>3</td>\n",
       "      <td>1.00</td>\n",
       "      <td>4</td>\n",
       "      <td>4.00</td>\n",
       "    </tr>\n",
       "    <tr>\n",
       "      <th>...</th>\n",
       "      <td>...</td>\n",
       "      <td>...</td>\n",
       "      <td>...</td>\n",
       "      <td>...</td>\n",
       "    </tr>\n",
       "    <tr>\n",
       "      <th>79519</th>\n",
       "      <td>116071</td>\n",
       "      <td>0.20</td>\n",
       "      <td>46</td>\n",
       "      <td>9.20</td>\n",
       "    </tr>\n",
       "    <tr>\n",
       "      <th>79520</th>\n",
       "      <td>117313</td>\n",
       "      <td>0.20</td>\n",
       "      <td>58</td>\n",
       "      <td>11.60</td>\n",
       "    </tr>\n",
       "    <tr>\n",
       "      <th>79521</th>\n",
       "      <td>156275</td>\n",
       "      <td>0.20</td>\n",
       "      <td>53</td>\n",
       "      <td>10.60</td>\n",
       "    </tr>\n",
       "    <tr>\n",
       "      <th>79522</th>\n",
       "      <td>156277</td>\n",
       "      <td>0.20</td>\n",
       "      <td>28</td>\n",
       "      <td>5.60</td>\n",
       "    </tr>\n",
       "    <tr>\n",
       "      <th>79523</th>\n",
       "      <td>166404</td>\n",
       "      <td>0.20</td>\n",
       "      <td>36</td>\n",
       "      <td>7.20</td>\n",
       "    </tr>\n",
       "  </tbody>\n",
       "</table>\n",
       "<p>79524 rows × 4 columns</p>\n",
       "</div>"
      ],
      "text/plain": [
       "          uid  price_per_job  jobs_made  total\n",
       "0           3           0.03          1   0.03\n",
       "1           3           0.10          2   0.20\n",
       "2           3           0.10          2   0.20\n",
       "3           3           0.15          1   0.15\n",
       "4           3           1.00          4   4.00\n",
       "...       ...            ...        ...    ...\n",
       "79519  116071           0.20         46   9.20\n",
       "79520  117313           0.20         58  11.60\n",
       "79521  156275           0.20         53  10.60\n",
       "79522  156277           0.20         28   5.60\n",
       "79523  166404           0.20         36   7.20\n",
       "\n",
       "[79524 rows x 4 columns]"
      ]
     },
     "execution_count": 4,
     "metadata": {},
     "output_type": "execute_result"
    }
   ],
   "source": [
    "data[['uid', 'total']] #столбец \"total\" цена за все выполненные работы по каждому id\n",
    "data.to_csv('out.csv', index=False) #вывод файла с данными\n",
    "data"
   ]
  },
  {
   "cell_type": "markdown",
   "metadata": {},
   "source": [
    "### 2) id, которые заработали больше других и в сумме заработали 60% денег"
   ]
  },
  {
   "cell_type": "code",
   "execution_count": 5,
   "metadata": {},
   "outputs": [
    {
     "data": {
      "text/html": [
       "<div>\n",
       "<style scoped>\n",
       "    .dataframe tbody tr th:only-of-type {\n",
       "        vertical-align: middle;\n",
       "    }\n",
       "\n",
       "    .dataframe tbody tr th {\n",
       "        vertical-align: top;\n",
       "    }\n",
       "\n",
       "    .dataframe thead th {\n",
       "        text-align: right;\n",
       "    }\n",
       "</style>\n",
       "<table border=\"1\" class=\"dataframe\">\n",
       "  <thead>\n",
       "    <tr style=\"text-align: right;\">\n",
       "      <th></th>\n",
       "      <th>uid</th>\n",
       "      <th>price_per_job</th>\n",
       "      <th>jobs_made</th>\n",
       "      <th>total</th>\n",
       "      <th>max_uid</th>\n",
       "    </tr>\n",
       "  </thead>\n",
       "  <tbody>\n",
       "    <tr>\n",
       "      <th>0</th>\n",
       "      <td>3</td>\n",
       "      <td>0.03</td>\n",
       "      <td>1</td>\n",
       "      <td>0.03</td>\n",
       "      <td>False</td>\n",
       "    </tr>\n",
       "    <tr>\n",
       "      <th>1</th>\n",
       "      <td>3</td>\n",
       "      <td>0.10</td>\n",
       "      <td>2</td>\n",
       "      <td>0.20</td>\n",
       "      <td>False</td>\n",
       "    </tr>\n",
       "    <tr>\n",
       "      <th>2</th>\n",
       "      <td>3</td>\n",
       "      <td>0.10</td>\n",
       "      <td>2</td>\n",
       "      <td>0.20</td>\n",
       "      <td>False</td>\n",
       "    </tr>\n",
       "    <tr>\n",
       "      <th>3</th>\n",
       "      <td>3</td>\n",
       "      <td>0.15</td>\n",
       "      <td>1</td>\n",
       "      <td>0.15</td>\n",
       "      <td>False</td>\n",
       "    </tr>\n",
       "    <tr>\n",
       "      <th>4</th>\n",
       "      <td>3</td>\n",
       "      <td>1.00</td>\n",
       "      <td>4</td>\n",
       "      <td>4.00</td>\n",
       "      <td>False</td>\n",
       "    </tr>\n",
       "  </tbody>\n",
       "</table>\n",
       "</div>"
      ],
      "text/plain": [
       "   uid  price_per_job  jobs_made  total  max_uid\n",
       "0    3           0.03          1   0.03    False\n",
       "1    3           0.10          2   0.20    False\n",
       "2    3           0.10          2   0.20    False\n",
       "3    3           0.15          1   0.15    False\n",
       "4    3           1.00          4   4.00    False"
      ]
     },
     "execution_count": 5,
     "metadata": {},
     "output_type": "execute_result"
    }
   ],
   "source": [
    "data['max_uid'] = data['total'] > (sum(data['total'])/len(data['total']))\n",
    "data.head()"
   ]
  },
  {
   "cell_type": "code",
   "execution_count": 6,
   "metadata": {},
   "outputs": [
    {
     "data": {
      "text/plain": [
       "array([False,  True])"
      ]
     },
     "execution_count": 6,
     "metadata": {},
     "output_type": "execute_result"
    }
   ],
   "source": [
    "#столбец \"max_uid\" со значениями True/False, где True это id, которые по среднему арифметическому заработали больше других\n",
    "data.max_uid.unique()"
   ]
  },
  {
   "cell_type": "code",
   "execution_count": 7,
   "metadata": {},
   "outputs": [
    {
     "data": {
      "text/html": [
       "<div>\n",
       "<style scoped>\n",
       "    .dataframe tbody tr th:only-of-type {\n",
       "        vertical-align: middle;\n",
       "    }\n",
       "\n",
       "    .dataframe tbody tr th {\n",
       "        vertical-align: top;\n",
       "    }\n",
       "\n",
       "    .dataframe thead th {\n",
       "        text-align: right;\n",
       "    }\n",
       "</style>\n",
       "<table border=\"1\" class=\"dataframe\">\n",
       "  <thead>\n",
       "    <tr style=\"text-align: right;\">\n",
       "      <th></th>\n",
       "      <th>uid</th>\n",
       "      <th>price_per_job</th>\n",
       "      <th>jobs_made</th>\n",
       "      <th>total</th>\n",
       "      <th>max_uid</th>\n",
       "    </tr>\n",
       "  </thead>\n",
       "  <tbody>\n",
       "    <tr>\n",
       "      <th>10</th>\n",
       "      <td>5</td>\n",
       "      <td>0.55</td>\n",
       "      <td>58</td>\n",
       "      <td>31.90</td>\n",
       "      <td>True</td>\n",
       "    </tr>\n",
       "    <tr>\n",
       "      <th>13</th>\n",
       "      <td>5</td>\n",
       "      <td>0.55</td>\n",
       "      <td>51</td>\n",
       "      <td>28.05</td>\n",
       "      <td>True</td>\n",
       "    </tr>\n",
       "    <tr>\n",
       "      <th>22</th>\n",
       "      <td>35</td>\n",
       "      <td>0.55</td>\n",
       "      <td>458</td>\n",
       "      <td>251.90</td>\n",
       "      <td>True</td>\n",
       "    </tr>\n",
       "    <tr>\n",
       "      <th>23</th>\n",
       "      <td>35</td>\n",
       "      <td>0.30</td>\n",
       "      <td>350</td>\n",
       "      <td>105.00</td>\n",
       "      <td>True</td>\n",
       "    </tr>\n",
       "    <tr>\n",
       "      <th>25</th>\n",
       "      <td>35</td>\n",
       "      <td>0.55</td>\n",
       "      <td>121</td>\n",
       "      <td>66.55</td>\n",
       "      <td>True</td>\n",
       "    </tr>\n",
       "    <tr>\n",
       "      <th>...</th>\n",
       "      <td>...</td>\n",
       "      <td>...</td>\n",
       "      <td>...</td>\n",
       "      <td>...</td>\n",
       "      <td>...</td>\n",
       "    </tr>\n",
       "    <tr>\n",
       "      <th>79512</th>\n",
       "      <td>2901</td>\n",
       "      <td>0.20</td>\n",
       "      <td>149</td>\n",
       "      <td>29.80</td>\n",
       "      <td>True</td>\n",
       "    </tr>\n",
       "    <tr>\n",
       "      <th>79514</th>\n",
       "      <td>6236</td>\n",
       "      <td>0.20</td>\n",
       "      <td>193</td>\n",
       "      <td>38.60</td>\n",
       "      <td>True</td>\n",
       "    </tr>\n",
       "    <tr>\n",
       "      <th>79515</th>\n",
       "      <td>6239</td>\n",
       "      <td>0.20</td>\n",
       "      <td>536</td>\n",
       "      <td>107.20</td>\n",
       "      <td>True</td>\n",
       "    </tr>\n",
       "    <tr>\n",
       "      <th>79517</th>\n",
       "      <td>112439</td>\n",
       "      <td>0.20</td>\n",
       "      <td>147</td>\n",
       "      <td>29.40</td>\n",
       "      <td>True</td>\n",
       "    </tr>\n",
       "    <tr>\n",
       "      <th>79518</th>\n",
       "      <td>112445</td>\n",
       "      <td>0.20</td>\n",
       "      <td>549</td>\n",
       "      <td>109.80</td>\n",
       "      <td>True</td>\n",
       "    </tr>\n",
       "  </tbody>\n",
       "</table>\n",
       "<p>12850 rows × 5 columns</p>\n",
       "</div>"
      ],
      "text/plain": [
       "          uid  price_per_job  jobs_made   total  max_uid\n",
       "10          5           0.55         58   31.90     True\n",
       "13          5           0.55         51   28.05     True\n",
       "22         35           0.55        458  251.90     True\n",
       "23         35           0.30        350  105.00     True\n",
       "25         35           0.55        121   66.55     True\n",
       "...       ...            ...        ...     ...      ...\n",
       "79512    2901           0.20        149   29.80     True\n",
       "79514    6236           0.20        193   38.60     True\n",
       "79515    6239           0.20        536  107.20     True\n",
       "79517  112439           0.20        147   29.40     True\n",
       "79518  112445           0.20        549  109.80     True\n",
       "\n",
       "[12850 rows x 5 columns]"
      ]
     },
     "execution_count": 7,
     "metadata": {},
     "output_type": "execute_result"
    }
   ],
   "source": [
    "max_uid_true=data[data['max_uid']==True]\n",
    "max_uid_true"
   ]
  },
  {
   "cell_type": "markdown",
   "metadata": {},
   "source": [
    "### Ответ:"
   ]
  },
  {
   "cell_type": "code",
   "execution_count": 8,
   "metadata": {},
   "outputs": [
    {
     "name": "stdout",
     "output_type": "stream",
     "text": [
      "1425 — Количество id, которые заработали в среднем больше остальных\n",
      "\n",
      "id, которые заработали в среднем больше остальных\n",
      "\n",
      " [5, 35, 68, 179, 187, 196, 197, 578, 581, 689, 779, 912, 1128, 1132, 1200, 1732, 1733, 1738, 1740, 2040, 2443, 2464, 2550, 2865, 2901, 2951, 2962, 3211, 3832, 5269, 5426, 5453, 5462, 5465, 5474, 5943, 5964, 6095, 6236, 6239, 6249, 6288, 7715, 7815, 8766, 9102, 9196, 10162, 10681, 10874, 11688, 14217, 20013, 26492, 29387, 32116, 35665, 38156, 47157, 47169, 82607, 111831, 112439, 112445, 112450, 113664, 116071, 116268, 117313, 117832, 117852, 118174, 119793, 120297, 121496, 121784, 123500, 124762, 128100, 128249, 130205, 130731, 131737, 131966, 132408, 136721, 139454, 139870, 142394, 142818, 143160, 143161, 143381, 143477, 143671, 144035, 144044, 144864, 144943, 145147, 146865, 147159, 147250, 147734, 147875, 148025, 148497, 148684, 149449, 149667, 149858, 150772, 150895, 151137, 151330, 151484, 154049, 154065, 156228, 156275, 156277, 156452, 158204, 158206, 159008, 160244, 160256, 160622, 165090, 165317, 166164, 166303, 166404, 167738, 168111, 168405, 168656, 169206, 169243, 169274, 169307, 170026, 170286, 170673, 170722, 171198, 171250, 171326, 171519, 171652, 171786, 171992, 172669, 172958, 172971, 173271, 173450, 173854, 173864, 173949, 174895, 175197, 175239, 175285, 175635, 175687, 175739, 175809, 176001, 176173, 176470, 176574, 176637, 176736, 177376, 177699, 177852, 178124, 178200, 178237, 178266, 178291, 178472, 178640, 179421, 179453, 179505, 179710, 179825, 180166, 180259, 180538, 180606, 180716, 180884, 180946, 181082, 181147, 181469, 181472, 181533, 181841, 181860, 182643, 182973, 182988, 183100, 183118, 183443, 183470, 183781, 183834, 183912, 183920, 184247, 184409, 184891, 184901, 184957, 184959, 184963, 185049, 185099, 185131, 185304, 185335, 185374, 185396, 185559, 185586, 185758, 185772, 185829, 185845, 185985, 186092, 186155, 186180, 186235, 186270, 186363, 186431, 186615, 186689, 186725, 186727, 186735, 186870, 186910, 187154, 187237, 187289, 187556, 187631, 187681, 187749, 187864, 187866, 187888, 187957, 188026, 188173, 188181, 188350, 188407, 188723, 188730, 188773, 188821, 188825, 188856, 189160, 189378, 189436, 189586, 189611, 189663, 189697, 189729, 189744, 189862, 189951, 190077, 190262, 190318, 190406, 190639, 190693, 190696, 191780, 192103, 192633, 192758, 192847, 193014, 193573, 193997, 194366, 194595, 194819, 194840, 194889, 195482, 195613, 195773, 195795, 196281, 196814, 196844, 197565, 197899, 198227, 198476, 198689, 198714, 199033, 199071, 199073, 199262, 199273, 199370, 200097, 200312, 200343, 200600, 200671, 201070, 201082, 201382, 201443, 202527, 203003, 203187, 203646, 204960, 205267, 205733, 206500, 208842, 208958, 209001, 209765, 209841, 210126, 210706, 211101, 211670, 212208, 212332, 212361, 212503, 212709, 213251, 213369, 213382, 213426, 213624, 213678, 213819, 213823, 213827, 214030, 214043, 214113, 214265, 214275, 214291, 214350, 214373, 214477, 214504, 214506, 214509, 214989, 215100, 215287, 215302, 215421, 215451, 215603, 215716, 215953, 215966, 216504, 216788, 216982, 216990, 217093, 217183, 217419, 217448, 217477, 217683, 218076, 218225, 218609, 218806, 218828, 219064, 219225, 219366, 219462, 219515, 219845, 219930, 220034, 220115, 220152, 220164, 220374, 220393, 220399, 220457, 220751, 220836, 220994, 221182, 221734, 222222, 222349, 222373, 222526, 222575, 222673, 223067, 223111, 223356, 223494, 223495, 223541, 223779, 223933, 224345, 224405, 224483, 224558, 224568, 224649, 224800, 224871, 224916, 225006, 225076, 225322, 225545, 225546, 225547, 225579, 225663, 225716, 225719, 226212, 226233, 226584, 227297, 227364, 227435, 227592, 227634, 227668, 227745, 227846, 227951, 227966, 228152, 228694, 228698, 229216, 229541, 229762, 229778, 229986, 230002, 230168, 230418, 230663, 230929, 231055, 231077, 231252, 231557, 231738, 232582, 232718, 233205, 233276, 233363, 233793, 233890, 233982, 233989, 233990, 233993, 234015, 234172, 234404, 234409, 234592, 234652, 235104, 235313, 235475, 235717, 236066, 236405, 236800, 236818, 236877, 237074, 237105, 237114, 237124, 237130, 237132, 237136, 237151, 237152, 237162, 237166, 237170, 237173, 237214, 237220, 237223, 237285, 237311, 237354, 237390, 237411, 237416, 237421, 237473, 237518, 237540, 237553, 237629, 237719, 237723, 237743, 237897, 237904, 238023, 238034, 238183, 238230, 238308, 238460, 238695, 238819, 238921, 239009, 239010, 239082, 239134, 239152, 239280, 239292, 239302, 239321, 239390, 239618, 239701, 239714, 239776, 239798, 239810, 239879, 239917, 239985, 239990, 240014, 240054, 240294, 240321, 240390, 240455, 240581, 240857, 241209, 241247, 241510, 241571, 241587, 241590, 241647, 241750, 241757, 241765, 241838, 242117, 242343, 242357, 242580, 242784, 242923, 243183, 243367, 243388, 243424, 243432, 243479, 243519, 243555, 243582, 243621, 243705, 244220, 244324, 244342, 244358, 244394, 244426, 244462, 244472, 244509, 244512, 244577, 244596, 244602, 244613, 244621, 244719, 244761, 244837, 244841, 245069, 245193, 245198, 245314, 245535, 245589, 245616, 245635, 245673, 245757, 245836, 245848, 245855, 245857, 245891, 245931, 246066, 246191, 246204, 246252, 246263, 246311, 246440, 246501, 246562, 246566, 246589, 246597, 246646, 246706, 246753, 246807, 246859, 247015, 247164, 247252, 247282, 247367, 247396, 247495, 247496, 247545, 247603, 247667, 247682, 247694, 247999, 248149, 248200, 248221, 248414, 248416, 248505, 248543, 248545, 248556, 248681, 248756, 248823, 248835, 248852, 248858, 248992, 249035, 249079, 249119, 249125, 249169, 249281, 249304, 249311, 249337, 249447, 249513, 249564, 249566, 249614, 249628, 249759, 249786, 249926, 249986, 250114, 250253, 250507, 250641, 250672, 250683, 250702, 250712, 250766, 250834, 250865, 250909, 250932, 250939, 250981, 251006, 251042, 251060, 251085, 251096, 251130, 251163, 251200, 251250, 251272, 251284, 251309, 251314, 251340, 251522, 251529, 251537, 251541, 251592, 251599, 251602, 251616, 251668, 251790, 251856, 251895, 251917, 251927, 251932, 251933, 251979, 252005, 252036, 252105, 252138, 252143, 252147, 252168, 252182, 252209, 252217, 252256, 252271, 252272, 252364, 252445, 252449, 252496, 252578, 252584, 252732, 252772, 252779, 252794, 252798, 252805, 252828, 252887, 252942, 253003, 253019, 253025, 253277, 253479, 253558, 253574, 253609, 253647, 253716, 253719, 253733, 253734, 253736, 253761, 253796, 253811, 253927, 254177, 254263, 254269, 254404, 254415, 254436, 254440, 254487, 254517, 254549, 254616, 254655, 254690, 254736, 254746, 254750, 254872, 254874, 254933, 254943, 254971, 255025, 255044, 255061, 255078, 255106, 255201, 255296, 255393, 255398, 255499, 255549, 255553, 255580, 255615, 255660, 255691, 255701, 255746, 255754, 255861, 255869, 255875, 255906, 255915, 255972, 256019, 256164, 256165, 256179, 256188, 256335, 256341, 256390, 256460, 256557, 256585, 256635, 256637, 256669, 256721, 256725, 256726, 256746, 256749, 256759, 256770, 256788, 256819, 256841, 256858, 256871, 256876, 256901, 256911, 256971, 257017, 257092, 257101, 257108, 257118, 257131, 257137, 257235, 257268, 257272, 257364, 257407, 257433, 257464, 257493, 257609, 257636, 257643, 257659, 257678, 257687, 257710, 257730, 257808, 257825, 257913, 258062, 258150, 258233, 258236, 258239, 258306, 258351, 258360, 258440, 258615, 258628, 258638, 258701, 258765, 258955, 259040, 259114, 259123, 259148, 259187, 259202, 259224, 259263, 259264, 259271, 259275, 259278, 259282, 259286, 259288, 259302, 259307, 259313, 259324, 259326, 259346, 259363, 259383, 259392, 259401, 259447, 259551, 259572, 259697, 259723, 259732, 259737, 259746, 259751, 259759, 259779, 259781, 259798, 259807, 259835, 259836, 259840, 259841, 259844, 259847, 259850, 259891, 259895, 259915, 259947, 259953, 259981, 259989, 259990, 259991, 260006, 260041, 260047, 260055, 260058, 260065, 260071, 260072, 260081, 260085, 260098, 260102, 260112, 260122, 260134, 260135, 260141, 260146, 260159, 260168, 260171, 260191, 260236, 260283, 260307, 260318, 260328, 260352, 260357, 260372, 260373, 260403, 260405, 260412, 260413, 260414, 260415, 260419, 260431, 260435, 260437, 260443, 260447, 260453, 260478, 260497, 260506, 260530, 260743, 260823, 260863, 260908, 260920, 260978, 260990, 261003, 261050, 261105, 261109, 261163, 261195, 261290, 261292, 261294, 261319, 261342, 261386, 261388, 261402, 261452, 261470, 261624, 261625, 261632, 261637, 261706, 261712, 261836, 261912, 261928, 261956, 261968, 262001, 262104, 262123, 262154, 262159, 262187, 262213, 262230, 262240, 262278, 262283, 262298, 262390, 262474, 262534, 262702, 262725, 262838, 262855, 262875, 262884, 262892, 262966, 262970, 262973, 262986, 262991, 262998, 263037, 263166, 263249, 263252, 263256, 263279, 263283, 263287, 263305, 263315, 263367, 263394, 263419, 263425, 263549, 263602, 263638, 263827, 263905, 263945, 263964, 264096, 264103, 264191, 264244, 264255, 264259, 264286, 264348, 264375, 264379, 264380, 264431, 264441, 264524, 264554, 264561, 264628, 264666, 264795, 264851, 264865, 264866, 264871, 264989, 265044, 265085, 265183, 265214, 265300, 265302, 265365, 265370, 265391, 265396, 265411, 265455, 265500, 265547, 265548, 265607, 265631, 265653, 265656, 265667, 265718, 265719, 265727, 265733, 265744, 265765, 265819, 265822, 265883, 265903, 265943, 266020, 266030, 266055, 266122, 266161, 266179, 266214, 266272, 266293, 266329, 266331, 266346, 266353, 266375, 266409, 266432, 266450, 266479, 266518, 266549, 266560, 266564, 266570, 266573, 266584, 266615, 266623, 266630, 266631, 266646, 266647, 266659, 266666, 266675, 266677, 266702, 266705, 266716, 266720, 266725, 266747, 266768, 266772, 266773, 266775, 266777, 266812, 266815, 266856, 266866, 266873, 266887, 266897, 266905, 266909, 266915, 266920, 266937, 266953, 266973, 266995, 267014, 267021, 267024, 267032, 267057, 267089, 267098, 267125, 267131, 267150, 267151, 267159, 267165, 267166, 267169, 267192, 267193, 267198, 267212, 267232, 267267, 267269, 267301, 267306, 267353, 267372, 267377, 267388, 267411, 267416, 267457, 267469, 267503, 267517, 267523, 267537, 267544, 267563, 267612, 267649, 267653, 267654, 267683, 267713, 267730, 267735, 267748, 267766, 267787, 267795, 267825, 267879, 267891, 267910, 267987, 268058, 268077, 268117, 268140, 268154, 268196, 268217, 268250, 268290, 268307, 268311, 268331, 268332, 268348, 268349, 268357, 268366, 268386, 268420, 268454, 268458, 268459, 268503, 268529, 268532, 268539, 268545, 268553, 268614, 268635, 268639, 268742, 268775, 268796, 268829, 268832, 268843, 268850, 268886, 268913, 268937, 268945, 268946, 268968, 268970, 268987, 269007, 269013, 269037, 269060, 269061, 269073, 269111, 269158, 269160, 269164, 269243, 269256, 269259, 269267, 269281, 269290, 269294, 269318, 269321, 269324, 269332, 269337, 269351, 269356, 269366, 269376, 269377, 269384, 269388, 269402, 269403, 269404, 269405, 269407, 269427, 269429, 269434, 269442, 269444, 269446, 269461, 269463, 269467, 269471, 269474, 269475, 269486, 269506, 269557, 269559, 269567, 269572, 269580, 269612, 269627, 269628, 269642, 269657, 269668, 269678, 269682, 269684, 269687, 269690, 269691, 269695, 269701, 269707, 269709, 269710, 269723, 269742, 269753, 269756, 269758, 269767, 269771, 269778, 269787, 269790, 269829, 269859, 269869, 269874, 269894, 269902, 269922, 269933, 269952, 269989, 269992, 270008, 270044, 270052, 270073, 270078, 270086, 270088, 270106, 270129, 270146, 270159, 270197, 270217, 270230, 270294]\n"
     ]
    }
   ],
   "source": [
    "#id, которые заработали в среднем больше остальных\n",
    "\n",
    "uid_true = pd.unique(max_uid_true['uid']).tolist()\n",
    "print('%s — Количество id, которые заработали в среднем больше остальных\\n'%len(uid_true))\n",
    "print('id, которые заработали в среднем больше остальных\\n\\n', uid_true)"
   ]
  },
  {
   "cell_type": "code",
   "execution_count": 10,
   "metadata": {},
   "outputs": [
    {
     "name": "stdout",
     "output_type": "stream",
     "text": [
      "[False] — нет id, которые в сумме заработали 60% или больше\n",
      "\n"
     ]
    },
    {
     "data": {
      "text/html": [
       "<div>\n",
       "<style scoped>\n",
       "    .dataframe tbody tr th:only-of-type {\n",
       "        vertical-align: middle;\n",
       "    }\n",
       "\n",
       "    .dataframe tbody tr th {\n",
       "        vertical-align: top;\n",
       "    }\n",
       "\n",
       "    .dataframe thead th {\n",
       "        text-align: right;\n",
       "    }\n",
       "</style>\n",
       "<table border=\"1\" class=\"dataframe\">\n",
       "  <thead>\n",
       "    <tr style=\"text-align: right;\">\n",
       "      <th></th>\n",
       "      <th>uid</th>\n",
       "      <th>price_per_job</th>\n",
       "      <th>jobs_made</th>\n",
       "      <th>total</th>\n",
       "      <th>max_uid</th>\n",
       "      <th>max_uid_60pr</th>\n",
       "    </tr>\n",
       "  </thead>\n",
       "  <tbody>\n",
       "    <tr>\n",
       "      <th>0</th>\n",
       "      <td>3</td>\n",
       "      <td>0.03</td>\n",
       "      <td>1</td>\n",
       "      <td>0.03</td>\n",
       "      <td>False</td>\n",
       "      <td>False</td>\n",
       "    </tr>\n",
       "    <tr>\n",
       "      <th>1</th>\n",
       "      <td>3</td>\n",
       "      <td>0.10</td>\n",
       "      <td>2</td>\n",
       "      <td>0.20</td>\n",
       "      <td>False</td>\n",
       "      <td>False</td>\n",
       "    </tr>\n",
       "    <tr>\n",
       "      <th>2</th>\n",
       "      <td>3</td>\n",
       "      <td>0.10</td>\n",
       "      <td>2</td>\n",
       "      <td>0.20</td>\n",
       "      <td>False</td>\n",
       "      <td>False</td>\n",
       "    </tr>\n",
       "    <tr>\n",
       "      <th>3</th>\n",
       "      <td>3</td>\n",
       "      <td>0.15</td>\n",
       "      <td>1</td>\n",
       "      <td>0.15</td>\n",
       "      <td>False</td>\n",
       "      <td>False</td>\n",
       "    </tr>\n",
       "    <tr>\n",
       "      <th>4</th>\n",
       "      <td>3</td>\n",
       "      <td>1.00</td>\n",
       "      <td>4</td>\n",
       "      <td>4.00</td>\n",
       "      <td>False</td>\n",
       "      <td>False</td>\n",
       "    </tr>\n",
       "  </tbody>\n",
       "</table>\n",
       "</div>"
      ],
      "text/plain": [
       "   uid  price_per_job  jobs_made  total  max_uid  max_uid_60pr\n",
       "0    3           0.03          1   0.03    False         False\n",
       "1    3           0.10          2   0.20    False         False\n",
       "2    3           0.10          2   0.20    False         False\n",
       "3    3           0.15          1   0.15    False         False\n",
       "4    3           1.00          4   4.00    False         False"
      ]
     },
     "execution_count": 10,
     "metadata": {},
     "output_type": "execute_result"
    }
   ],
   "source": [
    "data['max_uid_60pr'] = data['total'] >= (sum(data['total'])*60)/100\n",
    "max_uid_60pr = pd.unique(data['max_uid_60pr'])\n",
    "print('%s — нет id, которые в сумме заработали 60%% или больше\\n'%max_uid_60pr)\n",
    "data.head()"
   ]
  },
  {
   "cell_type": "markdown",
   "metadata": {},
   "source": [
    "### 3) метод поиска тех, кто заработал слишком много, с помощью нахождения экстремумов"
   ]
  },
  {
   "cell_type": "code",
   "execution_count": 11,
   "metadata": {},
   "outputs": [
    {
     "data": {
      "text/plain": [
       "count    1683.000000\n",
       "mean        0.264082\n",
       "std         0.162584\n",
       "min         0.100000\n",
       "25%         0.100000\n",
       "50%         0.200000\n",
       "75%         0.350000\n",
       "max         0.550000\n",
       "Name: price_per_job, dtype: float64"
      ]
     },
     "execution_count": 11,
     "metadata": {},
     "output_type": "execute_result"
    }
   ],
   "source": [
    "# отфильтровала наблюдения по топ-5 стоимости за работу\n",
    "\n",
    "df = data[data.uid.isin(data.uid.value_counts().head(5).index)]\n",
    "\n",
    "df.price_per_job.describe()"
   ]
  },
  {
   "cell_type": "markdown",
   "metadata": {},
   "source": [
    "#### График боксплот по топ-5 id за стоимость одной работы"
   ]
  },
  {
   "cell_type": "markdown",
   "metadata": {},
   "source": [
    "На графике горизонтальная черта означают медиану. Как видно, 4 id из 5 имеют одинаковое среднее значение, приближены к минимальному значению по стоимости за работу. Выбросов нет.\n",
    "\n",
    "id 7715 выделяется из топ списка по стоимости работы."
   ]
  },
  {
   "cell_type": "code",
   "execution_count": 14,
   "metadata": {},
   "outputs": [
    {
     "data": {
      "text/plain": [
       "<matplotlib.axes._subplots.AxesSubplot at 0x2929585b108>"
      ]
     },
     "execution_count": 14,
     "metadata": {},
     "output_type": "execute_result"
    },
    {
     "data": {
      "image/png": "[encoded data removed]",
      "text/plain": [
       "<Figure size 864x432 with 1 Axes>"
      ]
     },
     "metadata": {
      "needs_background": "light"
     },
     "output_type": "display_data"
    }
   ],
   "source": [
    "# построила boxplot\n",
    "fig, ax = plt.subplots(figsize=(12,6))  \n",
    "sns.boxplot(\n",
    "    x='uid',\n",
    "    y='price_per_job',\n",
    "    data=df\n",
    ")"
   ]
  },
  {
   "cell_type": "markdown",
   "metadata": {},
   "source": [
    "---"
   ]
  }
 ],
 "metadata": {
  "kernelspec": {
   "display_name": "Python 3",
   "language": "python",
   "name": "python3"
  },
  "language_info": {
   "codemirror_mode": {
    "name": "ipython",
    "version": 3
   },
   "file_extension": ".py",
   "mimetype": "text/x-python",
   "name": "python",
   "nbconvert_exporter": "python",
   "pygments_lexer": "ipython3",
   "version": "3.7.6"
  }
 },
 "nbformat": 4,
 "nbformat_minor": 4
}
